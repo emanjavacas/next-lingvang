{
 "cells": [
  {
   "cell_type": "code",
   "execution_count": 27,
   "id": "4bc49593-0250-4d5e-a16b-d4d77eae3fb7",
   "metadata": {},
   "outputs": [],
   "source": [
    "import os\n",
    "import glob\n",
    "import pandas as pd\n",
    "import numpy as np\n",
    "from sklearn import metrics\n",
    "import matplotlib.pyplot as plt\n",
    "import seaborn as sns"
   ]
  },
  {
   "cell_type": "markdown",
   "id": "8b3136fb-fe07-41eb-8ebd-6092ec7617dc",
   "metadata": {},
   "source": [
    "# Fire\n",
    "## Load results"
   ]
  },
  {
   "cell_type": "code",
   "execution_count": 21,
   "id": "ff363258-c415-4033-b4cc-3191dd7d4a68",
   "metadata": {},
   "outputs": [],
   "source": [
    "results_fire = []\n",
    "for f in glob.glob('./results/fire/*.results.parquet'):\n",
    "    source, *_, model, _, _ = os.path.basename(f).split('.')\n",
    "    data = pd.read_csv('./source/fire/{}.filtered.csv'.format(source))\n",
    "    result = pd.read_parquet(f)\n",
    "    assert np.alltrue(result['trues'] == data.loc[result['test']]['Level 2'].values)\n",
    "    result['trues'] = data.loc[result['test']]['Level 2'].values\n",
    "    result['source'] = source\n",
    "    result['model'] = model\n",
    "    results_fire.append(result)\n",
    "    \n",
    "results_fire = pd.concat(results_fire)"
   ]
  },
  {
   "cell_type": "code",
   "execution_count": 22,
   "id": "dd8bbf3c-2928-46ba-811e-c0c67e96d8e8",
   "metadata": {},
   "outputs": [
    {
     "data": {
      "text/html": [
       "<div>\n",
       "<style scoped>\n",
       "    .dataframe tbody tr th:only-of-type {\n",
       "        vertical-align: middle;\n",
       "    }\n",
       "\n",
       "    .dataframe tbody tr th {\n",
       "        vertical-align: top;\n",
       "    }\n",
       "\n",
       "    .dataframe thead th {\n",
       "        text-align: right;\n",
       "    }\n",
       "</style>\n",
       "<table border=\"1\" class=\"dataframe\">\n",
       "  <thead>\n",
       "    <tr style=\"text-align: right;\">\n",
       "      <th></th>\n",
       "      <th>fold</th>\n",
       "      <th>test</th>\n",
       "      <th>preds</th>\n",
       "      <th>trues</th>\n",
       "      <th>source</th>\n",
       "      <th>model</th>\n",
       "      <th>scores</th>\n",
       "    </tr>\n",
       "  </thead>\n",
       "  <tbody>\n",
       "    <tr>\n",
       "      <th>0</th>\n",
       "      <td>0</td>\n",
       "      <td>5</td>\n",
       "      <td>LIT</td>\n",
       "      <td>LIT</td>\n",
       "      <td>flam</td>\n",
       "      <td>SVC</td>\n",
       "      <td>NaN</td>\n",
       "    </tr>\n",
       "    <tr>\n",
       "      <th>1</th>\n",
       "      <td>0</td>\n",
       "      <td>9</td>\n",
       "      <td>MET</td>\n",
       "      <td>MET</td>\n",
       "      <td>flam</td>\n",
       "      <td>SVC</td>\n",
       "      <td>NaN</td>\n",
       "    </tr>\n",
       "    <tr>\n",
       "      <th>2</th>\n",
       "      <td>0</td>\n",
       "      <td>42</td>\n",
       "      <td>MET</td>\n",
       "      <td>MET</td>\n",
       "      <td>flam</td>\n",
       "      <td>SVC</td>\n",
       "      <td>NaN</td>\n",
       "    </tr>\n",
       "    <tr>\n",
       "      <th>3</th>\n",
       "      <td>0</td>\n",
       "      <td>51</td>\n",
       "      <td>LIT</td>\n",
       "      <td>LIT</td>\n",
       "      <td>flam</td>\n",
       "      <td>SVC</td>\n",
       "      <td>NaN</td>\n",
       "    </tr>\n",
       "    <tr>\n",
       "      <th>4</th>\n",
       "      <td>0</td>\n",
       "      <td>56</td>\n",
       "      <td>LIT</td>\n",
       "      <td>LIT</td>\n",
       "      <td>flam</td>\n",
       "      <td>SVC</td>\n",
       "      <td>NaN</td>\n",
       "    </tr>\n",
       "  </tbody>\n",
       "</table>\n",
       "</div>"
      ],
      "text/plain": [
       "   fold  test preds trues source model  scores\n",
       "0     0     5   LIT   LIT   flam   SVC     NaN\n",
       "1     0     9   MET   MET   flam   SVC     NaN\n",
       "2     0    42   MET   MET   flam   SVC     NaN\n",
       "3     0    51   LIT   LIT   flam   SVC     NaN\n",
       "4     0    56   LIT   LIT   flam   SVC     NaN"
      ]
     },
     "execution_count": 22,
     "metadata": {},
     "output_type": "execute_result"
    }
   ],
   "source": [
    "results_fire.head()"
   ]
  },
  {
   "cell_type": "markdown",
   "id": "a0a01fe5-65ef-42a3-80c9-461da0a61162",
   "metadata": {},
   "source": [
    "## Plot results"
   ]
  },
  {
   "cell_type": "code",
   "execution_count": 23,
   "id": "687913b0-569e-4290-94a9-31a3a8d88ba1",
   "metadata": {},
   "outputs": [],
   "source": [
    "results_fire = results_fire.groupby(['fold', 'source', 'model']).apply(\n",
    "    lambda g: pd.Series(\n",
    "                        {'precision': metrics.precision_score(g['trues'], g['preds'], pos_label='MET'),\n",
    "                         'accuracy': metrics.accuracy_score(g['trues'], g['preds']),\n",
    "                         'recall': metrics.recall_score(g['trues'], g['preds'], pos_label='MET'),\n",
    "                         'f1': metrics.f1_score(g['trues'], g['preds'], pos_label='MET')}\n",
    "                       )\n",
    ").reset_index()"
   ]
  },
  {
   "cell_type": "code",
   "execution_count": 24,
   "id": "57298c68-0eb8-4da0-877a-f497301c0578",
   "metadata": {},
   "outputs": [],
   "source": [
    "results_fire_long = pd.melt(\n",
    "    results_fire, \n",
    "    # identify single observation\n",
    "    id_vars=['fold', 'model', 'source'], \n",
    "    # these are the columns we care about\n",
    "    value_vars=['precision', 'recall', 'f1', 'accuracy'], \n",
    "    # target column name\n",
    "    var_name='metric', \n",
    "    # value column name\n",
    "    value_name='score')"
   ]
  },
  {
   "cell_type": "code",
   "execution_count": 25,
   "id": "4deef595-4e0a-4b10-8fe6-a18cd1601e02",
   "metadata": {},
   "outputs": [],
   "source": [
    "results_fire_long = results_fire_long.replace({\"model\": {'metric-finetune': 'metric'}})"
   ]
  },
  {
   "cell_type": "code",
   "execution_count": 29,
   "id": "a0442417-607c-4e96-abe3-ad92b9f931f7",
   "metadata": {},
   "outputs": [
    {
     "data": {
      "image/png": "[encoded data removed]",
      "text/plain": [
       "<Figure size 985.2x1296 with 18 Axes>"
      ]
     },
     "metadata": {},
     "output_type": "display_data"
    }
   ],
   "source": [
    "with sns.axes_style(\"whitegrid\"), sns.plotting_context(\"notebook\", font_scale=1.5):\n",
    "    g = sns.FacetGrid(results_fire_long[results_fire_long['metric']!='accuracy'],\n",
    "                      row='source', col='metric', margin_titles=True, aspect=1.5)\n",
    "    g.map_dataframe(sns.barplot, x='model', y='score')\n",
    "    g.add_legend()\n",
    "    g.set(ylim=(0., 1))\n",
    "    for axes in g.axes.flat:\n",
    "        _ = axes.set_xticklabels(axes.get_xticklabels(), rotation=90)"
   ]
  },
  {
   "cell_type": "markdown",
   "id": "3109dec1-ef37-41a0-8a9e-f17873cd815c",
   "metadata": {},
   "source": [
    "# Scent\n",
    "## Load results"
   ]
  },
  {
   "cell_type": "code",
   "execution_count": 37,
   "id": "89de183f-eaae-4c3b-8401-a79dbe29973d",
   "metadata": {},
   "outputs": [
    {
     "name": "stdout",
     "output_type": "stream",
     "text": [
      "./results/scent/geur.metric-finetune.results.parquet\n",
      "./results/scent/geur.finetune.results.parquet\n",
      "./results/scent/reuk.metric-finetune.results.parquet\n",
      "./results/scent/geur.embeddings.KNN.results.parquet\n",
      "./results/scent/reuk.finetune.results.parquet\n",
      "./results/scent/reuk.embeddings.SVC.results.parquet\n",
      "./results/scent/geur.embeddings.SVC.results.parquet\n",
      "./results/scent/reuk.embeddings.KNN.results.parquet\n"
     ]
    }
   ],
   "source": [
    "results_scent = []\n",
    "for f in glob.glob('./results/scent/*results.parquet'):\n",
    "    print(f)\n",
    "    source, *_, model, _, _ = os.path.basename(f).split('.')\n",
    "    data = pd.read_csv('./source/scent/{}.csv'.format(source))\n",
    "    result = pd.read_parquet(f)\n",
    "    assert np.alltrue(result['trues'] == data.loc[result['test']]['Role'].values)\n",
    "    result['trues'] = data.loc[result['test']]['Role'].values\n",
    "    result['source'] = source\n",
    "    result['model'] = model\n",
    "    results_scent.append(result)\n",
    "results_scent = pd.concat(results_scent)"
   ]
  },
  {
   "cell_type": "markdown",
   "id": "f378818e-1e9d-4f12-9573-7f30392d688e",
   "metadata": {},
   "source": [
    "## Plot results"
   ]
  },
  {
   "cell_type": "code",
   "execution_count": 38,
   "id": "ba927864-7513-464c-8879-6fd0a92f85c9",
   "metadata": {},
   "outputs": [],
   "source": [
    "results_scent = results_scent.groupby(['fold', 'source', 'model']).apply(\n",
    "    lambda g: pd.Series(\n",
    "                        {'f1 macro': metrics.f1_score(g['trues'], g['preds'], average='macro'),\n",
    "                         'f1 micro': metrics.f1_score(g['trues'], g['preds'], average='micro'),\n",
    "                         'accuracy': metrics.accuracy_score(g['trues'], g['preds'])}\n",
    "                       )\n",
    ").reset_index()"
   ]
  },
  {
   "cell_type": "code",
   "execution_count": 39,
   "id": "646d1fd9-302f-4109-8f86-573c72a57db2",
   "metadata": {},
   "outputs": [],
   "source": [
    "results_scent_long = pd.melt(\n",
    "    results_scent, \n",
    "    # identify single observation\n",
    "    id_vars=['fold', 'model', 'source'], \n",
    "    # these are the columns we care about\n",
    "    value_vars=['f1 macro', 'f1 micro', 'accuracy'], \n",
    "    # target column name\n",
    "    var_name='metric', \n",
    "    # value column name\n",
    "    value_name='score')"
   ]
  },
  {
   "cell_type": "code",
   "execution_count": 40,
   "id": "409326e1-5501-426a-80cb-d510dc3377b7",
   "metadata": {},
   "outputs": [],
   "source": [
    "results_scent_long = results_scent_long.replace({\"model\": {'metric-finetune': 'metric'}})"
   ]
  },
  {
   "cell_type": "code",
   "execution_count": 42,
   "id": "195714b7-f4f0-44da-b0d0-625f1860b0e6",
   "metadata": {},
   "outputs": [
    {
     "data": {
      "image/png": "[encoded data removed]",
      "text/plain": [
       "<Figure size 661.2x432 with 4 Axes>"
      ]
     },
     "metadata": {},
     "output_type": "display_data"
    }
   ],
   "source": [
    "with sns.axes_style(\"whitegrid\"), sns.plotting_context(\"notebook\", font_scale=1.5):\n",
    "    g = sns.FacetGrid(results_scent_long[results_scent_long['metric']!='accuracy'],\n",
    "                      row='source', col='metric', margin_titles=True, aspect=1.5)\n",
    "    g.map_dataframe(sns.barplot, x='model', y='score')\n",
    "    g.add_legend()\n",
    "    g.set(ylim=(0., 1))\n",
    "    for axes in g.axes.flat:\n",
    "        _ = axes.set_xticklabels(axes.get_xticklabels(), rotation=90)"
   ]
  },
  {
   "cell_type": "markdown",
   "id": "c964f69b-f0ea-4040-90ab-45b387932a73",
   "metadata": {},
   "source": [
    "# Mass and Weight\n",
    "## Load results"
   ]
  },
  {
   "cell_type": "code",
   "execution_count": 44,
   "id": "98291360-fcc8-4ad7-a3cb-5f9816c496ba",
   "metadata": {},
   "outputs": [],
   "source": [
    "results_mass = []\n",
    "for f in glob.glob('./results/mass-and-weight/*parquet'):\n",
    "    source, *_, model, _, _ = os.path.basename(f).split('.')\n",
    "    data = pd.read_csv('./source/mass-and-weight/{}.filtered.csv'.format(source))\n",
    "    result = pd.read_parquet(f)\n",
    "    assert np.alltrue(result['trues'] == data.loc[result['test']]['Sense'].values)\n",
    "    result['trues'] = data.iloc[result['test']]['Sense'].values\n",
    "    result['source'] = source\n",
    "    result['model'] = model\n",
    "    results_mass.append(result)\n",
    "results_mass = pd.concat(results_mass)"
   ]
  },
  {
   "cell_type": "markdown",
   "id": "66349e7e-dfa7-4f15-be82-c7579db4a236",
   "metadata": {},
   "source": [
    "## Plot results"
   ]
  },
  {
   "cell_type": "code",
   "execution_count": 45,
   "id": "97dfb928-9a33-4fc3-8399-a6eb3c0ea31f",
   "metadata": {},
   "outputs": [],
   "source": [
    "results_mass = results_mass.groupby(['fold', 'source', 'model']).apply(\n",
    "    lambda g: pd.Series(\n",
    "                        {'f1 macro': metrics.f1_score(g['trues'], g['preds'], average='macro'),\n",
    "                         'accuracy': metrics.accuracy_score(g['trues'], g['preds']),\n",
    "                         'f1 micro': metrics.f1_score(g['trues'], g['preds'], average='micro')}\n",
    "                       )\n",
    ").reset_index()"
   ]
  },
  {
   "cell_type": "code",
   "execution_count": 47,
   "id": "23ba8898-2918-4614-be8c-9a00d6a2dbac",
   "metadata": {},
   "outputs": [],
   "source": [
    "results_mass_long = pd.melt(\n",
    "    results_mass, \n",
    "    # identify single observation\n",
    "    id_vars=['fold', 'model', 'source'], \n",
    "    # these are the columns we care about\n",
    "    value_vars=['f1 macro', 'f1 micro', 'accuracy'], \n",
    "    # target column name\n",
    "    var_name='metric', \n",
    "    # value column name\n",
    "    value_name='score')"
   ]
  },
  {
   "cell_type": "code",
   "execution_count": 48,
   "id": "2f206ba5-82df-44fb-99f2-f77bcfa5dc86",
   "metadata": {},
   "outputs": [
    {
     "data": {
      "image/png": "[encoded data removed]",
      "text/plain": [
       "<Figure size 661.2x648 with 6 Axes>"
      ]
     },
     "metadata": {},
     "output_type": "display_data"
    }
   ],
   "source": [
    "with sns.axes_style(\"whitegrid\"), sns.plotting_context(\"notebook\", font_scale=1.5):\n",
    "    g = sns.FacetGrid(results_mass_long[results_mass_long['metric']!='accuracy'],\n",
    "                      row='source', col='metric', margin_titles=True, aspect=1.5)\n",
    "    g.map_dataframe(sns.barplot, x='model', y='score')\n",
    "    g.add_legend()\n",
    "    g.set(ylim=(0., 1))\n",
    "    for axes in g.axes.flat:\n",
    "        _ = axes.set_xticklabels(axes.get_xticklabels(), rotation=90)"
   ]
  },
  {
   "cell_type": "markdown",
   "id": "d9bd8481-27af-41e8-9116-fe1f36bb2b66",
   "metadata": {},
   "source": [
    "# Bayesian Comparison"
   ]
  },
  {
   "cell_type": "code",
   "execution_count": 49,
   "id": "4ae99ab1-9c4e-4dda-8948-2d0e0981b3c0",
   "metadata": {},
   "outputs": [],
   "source": [
    "splits = {}\n",
    "for model in results_mass['model'].unique():\n",
    "    subset_mass = results_mass.groupby('model').get_group(model)\n",
    "    subset_scent = results_scent.groupby('model').get_group(model)\n",
    "    subset_fire = results_fire.groupby('model').get_group(model)\n",
    "    splits[model] = np.stack([subset[subset['source']==source]['accuracy'].values \n",
    "                              for subset in [subset_mass, subset_scent, subset_fire]\n",
    "                              for source in subset['source'].unique()])"
   ]
  },
  {
   "cell_type": "code",
   "execution_count": 53,
   "id": "2157eccb-9d65-4bc1-94f1-c4878e31b514",
   "metadata": {},
   "outputs": [],
   "source": [
    "import nest_asyncio\n",
    "nest_asyncio.apply()\n",
    "\n",
    "import baycomp"
   ]
  },
  {
   "cell_type": "markdown",
   "id": "0c5c8a21-06b4-4eb1-8869-0d7364b5056e",
   "metadata": {},
   "source": [
    "## Comparing models at different ROPEs"
   ]
  },
  {
   "cell_type": "markdown",
   "id": "141b94ff-c13c-4429-b6f4-73a16f907593",
   "metadata": {},
   "source": [
    "### ROPE=0.01"
   ]
  },
  {
   "cell_type": "code",
   "execution_count": 54,
   "id": "d8809f0d-b775-461e-b095-02cf7ce6a6da",
   "metadata": {},
   "outputs": [
    {
     "name": "stdout",
     "output_type": "stream",
     "text": [
      "SVC KNN\n"
     ]
    },
    {
     "name": "stderr",
     "output_type": "stream",
     "text": [
      "\u001b[32mBuilding:\u001b[0m found in cache, done.\n",
      "\u001b[36mMessages from \u001b[0m\u001b[36;1mstanc\u001b[0m\u001b[36m:\u001b[0m\n",
      "Warning: The parameter std0 has no priors. This means either no prior is\n",
      "    provided, or the prior(s) depend on data variables. In the later case,\n",
      "    this may be a false positive.\n",
      "Warning: The parameter sigma has no priors. This means either no prior is\n",
      "    provided, or the prior(s) depend on data variables. In the later case,\n",
      "    this may be a false positive.\n",
      "Warning: The parameter gammaBeta has no priors. This means either no prior is\n",
      "    provided, or the prior(s) depend on data variables. In the later case,\n",
      "    this may be a false positive.\n",
      "Warning: The parameter gammaAlpha has no priors. This means either no prior\n",
      "    is provided, or the prior(s) depend on data variables. In the later case,\n",
      "    this may be a false positive.\n",
      "Warning: The parameter delta0 has no priors. This means either no prior is\n",
      "    provided, or the prior(s) depend on data variables. In the later case,\n",
      "    this may be a false positive.\n",
      "\u001b[36mSampling:\u001b[0m   0%\n",
      "\u001b[1A\u001b[0J\u001b[36mSampling:\u001b[0m   0% (400/204000)\n",
      "\u001b[1A\u001b[0J\u001b[36mSampling:\u001b[0m   1% (1200/204000)\n",
      "\u001b[1A\u001b[0J\u001b[36mSampling:\u001b[0m   2% (3300/204000)\n",
      "\u001b[1A\u001b[0J\u001b[36mSampling:\u001b[0m  27% (54300/204000)\n",
      "\u001b[1A\u001b[0J\u001b[36mSampling:\u001b[0m  51% (104900/204000)\n",
      "\u001b[1A\u001b[0J\u001b[36mSampling:\u001b[0m  76% (155100/204000)\n",
      "\u001b[1A\u001b[0J\u001b[36mSampling:\u001b[0m 100% (204000/204000)\n",
      "\u001b[1A\u001b[0J\u001b[32mSampling:\u001b[0m 100% (204000/204000), done.\n",
      "\u001b[36mMessages received during sampling:\u001b[0m\n",
      "  Gradient evaluation took 0.000129 seconds\n",
      "  1000 transitions using 10 leapfrog steps per transition would take 1.29 seconds.\n",
      "  Adjust your expectations accordingly!\n",
      "  Gradient evaluation took 0.000147 seconds\n",
      "  1000 transitions using 10 leapfrog steps per transition would take 1.47 seconds.\n",
      "  Adjust your expectations accordingly!\n",
      "  Gradient evaluation took 0.000123 seconds\n",
      "  1000 transitions using 10 leapfrog steps per transition would take 1.23 seconds.\n",
      "  Adjust your expectations accordingly!\n",
      "  Gradient evaluation took 0.000124 seconds\n",
      "  1000 transitions using 10 leapfrog steps per transition would take 1.24 seconds.\n",
      "  Adjust your expectations accordingly!\n",
      "\u001b[32mBuilding:\u001b[0m found in cache, done.\n",
      "\u001b[36mMessages from \u001b[0m\u001b[36;1mstanc\u001b[0m\u001b[36m:\u001b[0m\n",
      "Warning: The parameter std0 has no priors. This means either no prior is\n",
      "    provided, or the prior(s) depend on data variables. In the later case,\n",
      "    this may be a false positive.\n",
      "Warning: The parameter sigma has no priors. This means either no prior is\n",
      "    provided, or the prior(s) depend on data variables. In the later case,\n",
      "    this may be a false positive.\n",
      "Warning: The parameter gammaBeta has no priors. This means either no prior is\n",
      "    provided, or the prior(s) depend on data variables. In the later case,\n",
      "    this may be a false positive.\n",
      "Warning: The parameter gammaAlpha has no priors. This means either no prior\n",
      "    is provided, or the prior(s) depend on data variables. In the later case,\n",
      "    this may be a false positive.\n",
      "Warning: The parameter delta0 has no priors. This means either no prior is\n",
      "    provided, or the prior(s) depend on data variables. In the later case,\n",
      "    this may be a false positive.\n",
      "\u001b[36mSampling:\u001b[0m   0%\n"
     ]
    },
    {
     "name": "stdout",
     "output_type": "stream",
     "text": [
      "SVC finetune\n"
     ]
    },
    {
     "name": "stderr",
     "output_type": "stream",
     "text": [
      "\u001b[1A\u001b[0J\u001b[36mSampling:\u001b[0m   0% (200/204000)\n",
      "\u001b[1A\u001b[0J\u001b[36mSampling:\u001b[0m   0% (400/204000)\n",
      "\u001b[1A\u001b[0J\u001b[36mSampling:\u001b[0m   0% (700/204000)\n",
      "\u001b[1A\u001b[0J\u001b[36mSampling:\u001b[0m   1% (1100/204000)\n",
      "\u001b[1A\u001b[0J\u001b[36mSampling:\u001b[0m  25% (51900/204000)\n",
      "\u001b[1A\u001b[0J\u001b[36mSampling:\u001b[0m  50% (102700/204000)\n",
      "\u001b[1A\u001b[0J\u001b[36mSampling:\u001b[0m  75% (153400/204000)\n",
      "\u001b[1A\u001b[0J\u001b[36mSampling:\u001b[0m 100% (204000/204000)\n",
      "\u001b[1A\u001b[0J\u001b[32mSampling:\u001b[0m 100% (204000/204000), done.\n",
      "\u001b[36mMessages received during sampling:\u001b[0m\n",
      "  Gradient evaluation took 0.000802 seconds\n",
      "  1000 transitions using 10 leapfrog steps per transition would take 8.02 seconds.\n",
      "  Adjust your expectations accordingly!\n",
      "  Gradient evaluation took 0.000157 seconds\n",
      "  1000 transitions using 10 leapfrog steps per transition would take 1.57 seconds.\n",
      "  Adjust your expectations accordingly!\n",
      "  Gradient evaluation took 0.00018 seconds\n",
      "  1000 transitions using 10 leapfrog steps per transition would take 1.8 seconds.\n",
      "  Adjust your expectations accordingly!\n",
      "  Gradient evaluation took 0.000186 seconds\n",
      "  1000 transitions using 10 leapfrog steps per transition would take 1.86 seconds.\n",
      "  Adjust your expectations accordingly!\n",
      "\u001b[32mBuilding:\u001b[0m found in cache, done.\n",
      "\u001b[36mMessages from \u001b[0m\u001b[36;1mstanc\u001b[0m\u001b[36m:\u001b[0m\n",
      "Warning: The parameter std0 has no priors. This means either no prior is\n",
      "    provided, or the prior(s) depend on data variables. In the later case,\n",
      "    this may be a false positive.\n",
      "Warning: The parameter sigma has no priors. This means either no prior is\n",
      "    provided, or the prior(s) depend on data variables. In the later case,\n",
      "    this may be a false positive.\n",
      "Warning: The parameter gammaBeta has no priors. This means either no prior is\n",
      "    provided, or the prior(s) depend on data variables. In the later case,\n",
      "    this may be a false positive.\n",
      "Warning: The parameter gammaAlpha has no priors. This means either no prior\n",
      "    is provided, or the prior(s) depend on data variables. In the later case,\n",
      "    this may be a false positive.\n",
      "Warning: The parameter delta0 has no priors. This means either no prior is\n",
      "    provided, or the prior(s) depend on data variables. In the later case,\n",
      "    this may be a false positive.\n",
      "\u001b[36mSampling:\u001b[0m   0%\n"
     ]
    },
    {
     "name": "stdout",
     "output_type": "stream",
     "text": [
      "SVC metric-finetune\n"
     ]
    },
    {
     "name": "stderr",
     "output_type": "stream",
     "text": [
      "\u001b[1A\u001b[0J\u001b[36mSampling:\u001b[0m   0% (400/204000)\n",
      "\u001b[1A\u001b[0J\u001b[36mSampling:\u001b[0m   1% (1100/204000)\n",
      "\u001b[1A\u001b[0J\u001b[36mSampling:\u001b[0m   1% (1900/204000)\n",
      "\u001b[1A\u001b[0J\u001b[36mSampling:\u001b[0m  26% (52900/204000)\n",
      "\u001b[1A\u001b[0J\u001b[36mSampling:\u001b[0m  51% (103500/204000)\n",
      "\u001b[1A\u001b[0J\u001b[36mSampling:\u001b[0m  75% (153800/204000)\n",
      "\u001b[1A\u001b[0J\u001b[36mSampling:\u001b[0m 100% (204000/204000)\n",
      "\u001b[1A\u001b[0J\u001b[32mSampling:\u001b[0m 100% (204000/204000), done.\n",
      "\u001b[36mMessages received during sampling:\u001b[0m\n",
      "  Gradient evaluation took 3.8e-05 seconds\n",
      "  1000 transitions using 10 leapfrog steps per transition would take 0.38 seconds.\n",
      "  Adjust your expectations accordingly!\n",
      "  Gradient evaluation took 3.3e-05 seconds\n",
      "  1000 transitions using 10 leapfrog steps per transition would take 0.33 seconds.\n",
      "  Adjust your expectations accordingly!\n",
      "  Gradient evaluation took 3.4e-05 seconds\n",
      "  1000 transitions using 10 leapfrog steps per transition would take 0.34 seconds.\n",
      "  Adjust your expectations accordingly!\n",
      "  Gradient evaluation took 3.1e-05 seconds\n",
      "  1000 transitions using 10 leapfrog steps per transition would take 0.31 seconds.\n",
      "  Adjust your expectations accordingly!\n",
      "\u001b[32mBuilding:\u001b[0m found in cache, done.\n",
      "\u001b[36mMessages from \u001b[0m\u001b[36;1mstanc\u001b[0m\u001b[36m:\u001b[0m\n",
      "Warning: The parameter std0 has no priors. This means either no prior is\n",
      "    provided, or the prior(s) depend on data variables. In the later case,\n",
      "    this may be a false positive.\n",
      "Warning: The parameter sigma has no priors. This means either no prior is\n",
      "    provided, or the prior(s) depend on data variables. In the later case,\n",
      "    this may be a false positive.\n",
      "Warning: The parameter gammaBeta has no priors. This means either no prior is\n",
      "    provided, or the prior(s) depend on data variables. In the later case,\n",
      "    this may be a false positive.\n",
      "Warning: The parameter gammaAlpha has no priors. This means either no prior\n",
      "    is provided, or the prior(s) depend on data variables. In the later case,\n",
      "    this may be a false positive.\n",
      "Warning: The parameter delta0 has no priors. This means either no prior is\n",
      "    provided, or the prior(s) depend on data variables. In the later case,\n",
      "    this may be a false positive.\n",
      "\u001b[36mSampling:\u001b[0m   0%\n"
     ]
    },
    {
     "name": "stdout",
     "output_type": "stream",
     "text": [
      "KNN finetune\n"
     ]
    },
    {
     "name": "stderr",
     "output_type": "stream",
     "text": [
      "\u001b[1A\u001b[0J\u001b[36mSampling:\u001b[0m   0% (700/204000)\n",
      "\u001b[1A\u001b[0J\u001b[36mSampling:\u001b[0m  25% (51700/204000)\n",
      "\u001b[1A\u001b[0J\u001b[36mSampling:\u001b[0m  50% (102700/204000)\n",
      "\u001b[1A\u001b[0J\u001b[36mSampling:\u001b[0m  75% (153700/204000)\n",
      "\u001b[1A\u001b[0J\u001b[36mSampling:\u001b[0m 100% (204000/204000)\n",
      "\u001b[1A\u001b[0J\u001b[32mSampling:\u001b[0m 100% (204000/204000), done.\n",
      "\u001b[36mMessages received during sampling:\u001b[0m\n",
      "  Gradient evaluation took 8.7e-05 seconds\n",
      "  1000 transitions using 10 leapfrog steps per transition would take 0.87 seconds.\n",
      "  Adjust your expectations accordingly!\n",
      "  Gradient evaluation took 7.1e-05 seconds\n",
      "  1000 transitions using 10 leapfrog steps per transition would take 0.71 seconds.\n",
      "  Adjust your expectations accordingly!\n",
      "  Gradient evaluation took 7.9e-05 seconds\n",
      "  1000 transitions using 10 leapfrog steps per transition would take 0.79 seconds.\n",
      "  Adjust your expectations accordingly!\n",
      "  Gradient evaluation took 7.5e-05 seconds\n",
      "  1000 transitions using 10 leapfrog steps per transition would take 0.75 seconds.\n",
      "  Adjust your expectations accordingly!\n",
      "\u001b[32mBuilding:\u001b[0m found in cache, done.\n",
      "\u001b[36mMessages from \u001b[0m\u001b[36;1mstanc\u001b[0m\u001b[36m:\u001b[0m\n",
      "Warning: The parameter std0 has no priors. This means either no prior is\n",
      "    provided, or the prior(s) depend on data variables. In the later case,\n",
      "    this may be a false positive.\n",
      "Warning: The parameter sigma has no priors. This means either no prior is\n",
      "    provided, or the prior(s) depend on data variables. In the later case,\n",
      "    this may be a false positive.\n",
      "Warning: The parameter gammaBeta has no priors. This means either no prior is\n",
      "    provided, or the prior(s) depend on data variables. In the later case,\n",
      "    this may be a false positive.\n",
      "Warning: The parameter gammaAlpha has no priors. This means either no prior\n",
      "    is provided, or the prior(s) depend on data variables. In the later case,\n",
      "    this may be a false positive.\n",
      "Warning: The parameter delta0 has no priors. This means either no prior is\n",
      "    provided, or the prior(s) depend on data variables. In the later case,\n",
      "    this may be a false positive.\n",
      "\u001b[36mSampling:\u001b[0m   0%\n"
     ]
    },
    {
     "name": "stdout",
     "output_type": "stream",
     "text": [
      "KNN metric-finetune\n"
     ]
    },
    {
     "name": "stderr",
     "output_type": "stream",
     "text": [
      "\u001b[1A\u001b[0J\u001b[36mSampling:\u001b[0m   0% (800/204000)\n",
      "\u001b[1A\u001b[0J\u001b[36mSampling:\u001b[0m  25% (51800/204000)\n",
      "\u001b[1A\u001b[0J\u001b[36mSampling:\u001b[0m  50% (102800/204000)\n",
      "\u001b[1A\u001b[0J\u001b[36mSampling:\u001b[0m  75% (153800/204000)\n",
      "\u001b[1A\u001b[0J\u001b[36mSampling:\u001b[0m 100% (204000/204000)\n",
      "\u001b[1A\u001b[0J\u001b[32mSampling:\u001b[0m 100% (204000/204000), done.\n",
      "\u001b[36mMessages received during sampling:\u001b[0m\n",
      "  Gradient evaluation took 3.6e-05 seconds\n",
      "  1000 transitions using 10 leapfrog steps per transition would take 0.36 seconds.\n",
      "  Adjust your expectations accordingly!\n",
      "  Gradient evaluation took 3e-05 seconds\n",
      "  1000 transitions using 10 leapfrog steps per transition would take 0.3 seconds.\n",
      "  Adjust your expectations accordingly!\n",
      "  Gradient evaluation took 3e-05 seconds\n",
      "  1000 transitions using 10 leapfrog steps per transition would take 0.3 seconds.\n",
      "  Adjust your expectations accordingly!\n",
      "  Gradient evaluation took 3e-05 seconds\n",
      "  1000 transitions using 10 leapfrog steps per transition would take 0.3 seconds.\n",
      "  Adjust your expectations accordingly!\n",
      "\u001b[32mBuilding:\u001b[0m found in cache, done.\n",
      "\u001b[36mMessages from \u001b[0m\u001b[36;1mstanc\u001b[0m\u001b[36m:\u001b[0m\n",
      "Warning: The parameter std0 has no priors. This means either no prior is\n",
      "    provided, or the prior(s) depend on data variables. In the later case,\n",
      "    this may be a false positive.\n",
      "Warning: The parameter sigma has no priors. This means either no prior is\n",
      "    provided, or the prior(s) depend on data variables. In the later case,\n",
      "    this may be a false positive.\n",
      "Warning: The parameter gammaBeta has no priors. This means either no prior is\n",
      "    provided, or the prior(s) depend on data variables. In the later case,\n",
      "    this may be a false positive.\n",
      "Warning: The parameter gammaAlpha has no priors. This means either no prior\n",
      "    is provided, or the prior(s) depend on data variables. In the later case,\n",
      "    this may be a false positive.\n",
      "Warning: The parameter delta0 has no priors. This means either no prior is\n",
      "    provided, or the prior(s) depend on data variables. In the later case,\n",
      "    this may be a false positive.\n",
      "\u001b[36mSampling:\u001b[0m   0%\n"
     ]
    },
    {
     "name": "stdout",
     "output_type": "stream",
     "text": [
      "finetune metric-finetune\n"
     ]
    },
    {
     "name": "stderr",
     "output_type": "stream",
     "text": [
      "\u001b[1A\u001b[0J\u001b[36mSampling:\u001b[0m   0% (800/204000)\n",
      "\u001b[1A\u001b[0J\u001b[36mSampling:\u001b[0m  25% (51800/204000)\n",
      "\u001b[1A\u001b[0J\u001b[36mSampling:\u001b[0m  50% (102800/204000)\n",
      "\u001b[1A\u001b[0J\u001b[36mSampling:\u001b[0m  75% (153800/204000)\n",
      "\u001b[1A\u001b[0J\u001b[36mSampling:\u001b[0m 100% (204000/204000)\n",
      "\u001b[1A\u001b[0J\u001b[32mSampling:\u001b[0m 100% (204000/204000), done.\n",
      "\u001b[36mMessages received during sampling:\u001b[0m\n",
      "  Gradient evaluation took 0.000114 seconds\n",
      "  1000 transitions using 10 leapfrog steps per transition would take 1.14 seconds.\n",
      "  Adjust your expectations accordingly!\n",
      "  Gradient evaluation took 0.000124 seconds\n",
      "  1000 transitions using 10 leapfrog steps per transition would take 1.24 seconds.\n",
      "  Adjust your expectations accordingly!\n",
      "  Gradient evaluation took 8.5e-05 seconds\n",
      "  1000 transitions using 10 leapfrog steps per transition would take 0.85 seconds.\n",
      "  Adjust your expectations accordingly!\n",
      "  Gradient evaluation took 9.5e-05 seconds\n",
      "  1000 transitions using 10 leapfrog steps per transition would take 0.95 seconds.\n",
      "  Adjust your expectations accordingly!\n"
     ]
    }
   ],
   "source": [
    "import itertools\n",
    "outs = {}\n",
    "for m1, m2 in itertools.combinations(['SVC', 'KNN', 'finetune', 'metric-finetune'], 2):\n",
    "    print(m1, m2)\n",
    "    outs[m1, m2] = baycomp.two_on_multiple(splits[m1], splits[m2], rope=0.01)"
   ]
  },
  {
   "cell_type": "code",
   "execution_count": 55,
   "id": "9fcc19c2-a7ee-4112-82f3-0ce5e1bc3112",
   "metadata": {},
   "outputs": [
    {
     "data": {
      "text/plain": [
       "{('SVC', 'KNN'): (0.965345, 0.001405, 0.03325),\n",
       " ('SVC', 'finetune'): (0.00102, 0.000415, 0.998565),\n",
       " ('SVC', 'metric-finetune'): (1e-05, 0.0, 0.99999),\n",
       " ('KNN', 'finetune'): (0.001395, 0.0, 0.998605),\n",
       " ('KNN', 'metric-finetune'): (3e-05, 0.0, 0.99997),\n",
       " ('finetune', 'metric-finetune'): (0.005295, 0.00163, 0.993075)}"
      ]
     },
     "execution_count": 55,
     "metadata": {},
     "output_type": "execute_result"
    }
   ],
   "source": [
    "outs"
   ]
  },
  {
   "cell_type": "markdown",
   "id": "6f9f7c0b-9856-461a-b113-e49ac2022c95",
   "metadata": {},
   "source": [
    "### ROPE=0.025"
   ]
  },
  {
   "cell_type": "code",
   "execution_count": 56,
   "id": "414e5f86-693a-4626-a2a7-0defb20a39ab",
   "metadata": {},
   "outputs": [
    {
     "name": "stderr",
     "output_type": "stream",
     "text": [
      "\u001b[32mBuilding:\u001b[0m found in cache, done.\n",
      "\u001b[36mMessages from \u001b[0m\u001b[36;1mstanc\u001b[0m\u001b[36m:\u001b[0m\n",
      "Warning: The parameter std0 has no priors. This means either no prior is\n",
      "    provided, or the prior(s) depend on data variables. In the later case,\n",
      "    this may be a false positive.\n",
      "Warning: The parameter sigma has no priors. This means either no prior is\n",
      "    provided, or the prior(s) depend on data variables. In the later case,\n",
      "    this may be a false positive.\n",
      "Warning: The parameter gammaBeta has no priors. This means either no prior is\n",
      "    provided, or the prior(s) depend on data variables. In the later case,\n",
      "    this may be a false positive.\n",
      "Warning: The parameter gammaAlpha has no priors. This means either no prior\n",
      "    is provided, or the prior(s) depend on data variables. In the later case,\n",
      "    this may be a false positive.\n",
      "Warning: The parameter delta0 has no priors. This means either no prior is\n",
      "    provided, or the prior(s) depend on data variables. In the later case,\n",
      "    this may be a false positive.\n",
      "\u001b[36mSampling:\u001b[0m   0%\n"
     ]
    },
    {
     "name": "stdout",
     "output_type": "stream",
     "text": [
      "SVC KNN\n"
     ]
    },
    {
     "name": "stderr",
     "output_type": "stream",
     "text": [
      "\u001b[1A\u001b[0J\u001b[36mSampling:\u001b[0m   0% (500/204000)\n",
      "\u001b[1A\u001b[0J\u001b[36mSampling:\u001b[0m   1% (1700/204000)\n",
      "\u001b[1A\u001b[0J\u001b[36mSampling:\u001b[0m  26% (52700/204000)\n",
      "\u001b[1A\u001b[0J\u001b[36mSampling:\u001b[0m  51% (103700/204000)\n",
      "\u001b[1A\u001b[0J\u001b[36mSampling:\u001b[0m  76% (154200/204000)\n",
      "\u001b[1A\u001b[0J\u001b[36mSampling:\u001b[0m 100% (204000/204000)\n",
      "\u001b[1A\u001b[0J\u001b[32mSampling:\u001b[0m 100% (204000/204000), done.\n",
      "\u001b[36mMessages received during sampling:\u001b[0m\n",
      "  Gradient evaluation took 9e-05 seconds\n",
      "  1000 transitions using 10 leapfrog steps per transition would take 0.9 seconds.\n",
      "  Adjust your expectations accordingly!\n",
      "  Gradient evaluation took 0.000102 seconds\n",
      "  1000 transitions using 10 leapfrog steps per transition would take 1.02 seconds.\n",
      "  Adjust your expectations accordingly!\n",
      "  Gradient evaluation took 7.7e-05 seconds\n",
      "  1000 transitions using 10 leapfrog steps per transition would take 0.77 seconds.\n",
      "  Adjust your expectations accordingly!\n",
      "  Gradient evaluation took 0.000128 seconds\n",
      "  1000 transitions using 10 leapfrog steps per transition would take 1.28 seconds.\n",
      "  Adjust your expectations accordingly!\n",
      "\u001b[32mBuilding:\u001b[0m found in cache, done.\n",
      "\u001b[36mMessages from \u001b[0m\u001b[36;1mstanc\u001b[0m\u001b[36m:\u001b[0m\n",
      "Warning: The parameter std0 has no priors. This means either no prior is\n",
      "    provided, or the prior(s) depend on data variables. In the later case,\n",
      "    this may be a false positive.\n",
      "Warning: The parameter sigma has no priors. This means either no prior is\n",
      "    provided, or the prior(s) depend on data variables. In the later case,\n",
      "    this may be a false positive.\n",
      "Warning: The parameter gammaBeta has no priors. This means either no prior is\n",
      "    provided, or the prior(s) depend on data variables. In the later case,\n",
      "    this may be a false positive.\n",
      "Warning: The parameter gammaAlpha has no priors. This means either no prior\n",
      "    is provided, or the prior(s) depend on data variables. In the later case,\n",
      "    this may be a false positive.\n",
      "Warning: The parameter delta0 has no priors. This means either no prior is\n",
      "    provided, or the prior(s) depend on data variables. In the later case,\n",
      "    this may be a false positive.\n",
      "\u001b[36mSampling:\u001b[0m   0%\n"
     ]
    },
    {
     "name": "stdout",
     "output_type": "stream",
     "text": [
      "SVC finetune\n"
     ]
    },
    {
     "name": "stderr",
     "output_type": "stream",
     "text": [
      "\u001b[1A\u001b[0J\u001b[36mSampling:\u001b[0m   0% (200/204000)\n",
      "\u001b[1A\u001b[0J\u001b[36mSampling:\u001b[0m   0% (400/204000)\n",
      "\u001b[1A\u001b[0J\u001b[36mSampling:\u001b[0m   0% (800/204000)\n",
      "\u001b[1A\u001b[0J\u001b[36mSampling:\u001b[0m   1% (1200/204000)\n",
      "\u001b[1A\u001b[0J\u001b[36mSampling:\u001b[0m  25% (52000/204000)\n",
      "\u001b[1A\u001b[0J\u001b[36mSampling:\u001b[0m  50% (102800/204000)\n",
      "\u001b[1A\u001b[0J\u001b[36mSampling:\u001b[0m  75% (153400/204000)\n",
      "\u001b[1A\u001b[0J\u001b[36mSampling:\u001b[0m 100% (204000/204000)\n",
      "\u001b[1A\u001b[0J\u001b[32mSampling:\u001b[0m 100% (204000/204000), done.\n",
      "\u001b[36mMessages received during sampling:\u001b[0m\n",
      "  Gradient evaluation took 3.8e-05 seconds\n",
      "  1000 transitions using 10 leapfrog steps per transition would take 0.38 seconds.\n",
      "  Adjust your expectations accordingly!\n",
      "  Gradient evaluation took 2.9e-05 seconds\n",
      "  1000 transitions using 10 leapfrog steps per transition would take 0.29 seconds.\n",
      "  Adjust your expectations accordingly!\n",
      "  Gradient evaluation took 3.2e-05 seconds\n",
      "  1000 transitions using 10 leapfrog steps per transition would take 0.32 seconds.\n",
      "  Adjust your expectations accordingly!\n",
      "  Gradient evaluation took 4.2e-05 seconds\n",
      "  1000 transitions using 10 leapfrog steps per transition would take 0.42 seconds.\n",
      "  Adjust your expectations accordingly!\n",
      "\u001b[32mBuilding:\u001b[0m found in cache, done.\n",
      "\u001b[36mMessages from \u001b[0m\u001b[36;1mstanc\u001b[0m\u001b[36m:\u001b[0m\n",
      "Warning: The parameter std0 has no priors. This means either no prior is\n",
      "    provided, or the prior(s) depend on data variables. In the later case,\n",
      "    this may be a false positive.\n",
      "Warning: The parameter sigma has no priors. This means either no prior is\n",
      "    provided, or the prior(s) depend on data variables. In the later case,\n",
      "    this may be a false positive.\n",
      "Warning: The parameter gammaBeta has no priors. This means either no prior is\n",
      "    provided, or the prior(s) depend on data variables. In the later case,\n",
      "    this may be a false positive.\n",
      "Warning: The parameter gammaAlpha has no priors. This means either no prior\n",
      "    is provided, or the prior(s) depend on data variables. In the later case,\n",
      "    this may be a false positive.\n",
      "Warning: The parameter delta0 has no priors. This means either no prior is\n",
      "    provided, or the prior(s) depend on data variables. In the later case,\n",
      "    this may be a false positive.\n",
      "\u001b[36mSampling:\u001b[0m   0%\n"
     ]
    },
    {
     "name": "stdout",
     "output_type": "stream",
     "text": [
      "SVC metric-finetune\n"
     ]
    },
    {
     "name": "stderr",
     "output_type": "stream",
     "text": [
      "\u001b[1A\u001b[0J\u001b[36mSampling:\u001b[0m   0% (300/204000)\n",
      "\u001b[1A\u001b[0J\u001b[36mSampling:\u001b[0m   0% (800/204000)\n",
      "\u001b[1A\u001b[0J\u001b[36mSampling:\u001b[0m   1% (1400/204000)\n",
      "\u001b[1A\u001b[0J\u001b[36mSampling:\u001b[0m  12% (23700/204000)\n",
      "\u001b[1A\u001b[0J\u001b[36mSampling:\u001b[0m  22% (45600/204000)\n",
      "\u001b[1A\u001b[0J\u001b[36mSampling:\u001b[0m  47% (96100/204000)\n",
      "\u001b[1A\u001b[0J\u001b[36mSampling:\u001b[0m  72% (146500/204000)\n",
      "\u001b[1A\u001b[0J\u001b[36mSampling:\u001b[0m  86% (175200/204000)\n",
      "\u001b[1A\u001b[0J\u001b[36mSampling:\u001b[0m 100% (204000/204000)\n",
      "\u001b[1A\u001b[0J\u001b[32mSampling:\u001b[0m 100% (204000/204000), done.\n",
      "\u001b[36mMessages received during sampling:\u001b[0m\n",
      "  Gradient evaluation took 3.6e-05 seconds\n",
      "  1000 transitions using 10 leapfrog steps per transition would take 0.36 seconds.\n",
      "  Adjust your expectations accordingly!\n",
      "  Gradient evaluation took 8.1e-05 seconds\n",
      "  1000 transitions using 10 leapfrog steps per transition would take 0.81 seconds.\n",
      "  Adjust your expectations accordingly!\n",
      "  Gradient evaluation took 2.9e-05 seconds\n",
      "  1000 transitions using 10 leapfrog steps per transition would take 0.29 seconds.\n",
      "  Adjust your expectations accordingly!\n",
      "  Gradient evaluation took 3.8e-05 seconds\n",
      "  1000 transitions using 10 leapfrog steps per transition would take 0.38 seconds.\n",
      "  Adjust your expectations accordingly!\n",
      "\u001b[32mBuilding:\u001b[0m found in cache, done.\n",
      "\u001b[36mMessages from \u001b[0m\u001b[36;1mstanc\u001b[0m\u001b[36m:\u001b[0m\n",
      "Warning: The parameter std0 has no priors. This means either no prior is\n",
      "    provided, or the prior(s) depend on data variables. In the later case,\n",
      "    this may be a false positive.\n",
      "Warning: The parameter sigma has no priors. This means either no prior is\n",
      "    provided, or the prior(s) depend on data variables. In the later case,\n",
      "    this may be a false positive.\n",
      "Warning: The parameter gammaBeta has no priors. This means either no prior is\n",
      "    provided, or the prior(s) depend on data variables. In the later case,\n",
      "    this may be a false positive.\n",
      "Warning: The parameter gammaAlpha has no priors. This means either no prior\n",
      "    is provided, or the prior(s) depend on data variables. In the later case,\n",
      "    this may be a false positive.\n",
      "Warning: The parameter delta0 has no priors. This means either no prior is\n",
      "    provided, or the prior(s) depend on data variables. In the later case,\n",
      "    this may be a false positive.\n",
      "\u001b[36mSampling:\u001b[0m   0%\n"
     ]
    },
    {
     "name": "stdout",
     "output_type": "stream",
     "text": [
      "KNN finetune\n"
     ]
    },
    {
     "name": "stderr",
     "output_type": "stream",
     "text": [
      "\u001b[1A\u001b[0J\u001b[36mSampling:\u001b[0m   0% (600/204000)\n",
      "\u001b[1A\u001b[0J\u001b[36mSampling:\u001b[0m  25% (51600/204000)\n",
      "\u001b[1A\u001b[0J\u001b[36mSampling:\u001b[0m  50% (102600/204000)\n",
      "\u001b[1A\u001b[0J\u001b[36mSampling:\u001b[0m  75% (153600/204000)\n",
      "\u001b[1A\u001b[0J\u001b[36mSampling:\u001b[0m 100% (204000/204000)\n",
      "\u001b[1A\u001b[0J\u001b[32mSampling:\u001b[0m 100% (204000/204000), done.\n",
      "\u001b[36mMessages received during sampling:\u001b[0m\n",
      "  Gradient evaluation took 8.7e-05 seconds\n",
      "  1000 transitions using 10 leapfrog steps per transition would take 0.87 seconds.\n",
      "  Adjust your expectations accordingly!\n",
      "  Gradient evaluation took 3e-05 seconds\n",
      "  1000 transitions using 10 leapfrog steps per transition would take 0.3 seconds.\n",
      "  Adjust your expectations accordingly!\n",
      "  Gradient evaluation took 3.1e-05 seconds\n",
      "  1000 transitions using 10 leapfrog steps per transition would take 0.31 seconds.\n",
      "  Adjust your expectations accordingly!\n",
      "  Gradient evaluation took 3.8e-05 seconds\n",
      "  1000 transitions using 10 leapfrog steps per transition would take 0.38 seconds.\n",
      "  Adjust your expectations accordingly!\n",
      "\u001b[32mBuilding:\u001b[0m found in cache, done.\n",
      "\u001b[36mMessages from \u001b[0m\u001b[36;1mstanc\u001b[0m\u001b[36m:\u001b[0m\n",
      "Warning: The parameter std0 has no priors. This means either no prior is\n",
      "    provided, or the prior(s) depend on data variables. In the later case,\n",
      "    this may be a false positive.\n",
      "Warning: The parameter sigma has no priors. This means either no prior is\n",
      "    provided, or the prior(s) depend on data variables. In the later case,\n",
      "    this may be a false positive.\n",
      "Warning: The parameter gammaBeta has no priors. This means either no prior is\n",
      "    provided, or the prior(s) depend on data variables. In the later case,\n",
      "    this may be a false positive.\n",
      "Warning: The parameter gammaAlpha has no priors. This means either no prior\n",
      "    is provided, or the prior(s) depend on data variables. In the later case,\n",
      "    this may be a false positive.\n",
      "Warning: The parameter delta0 has no priors. This means either no prior is\n",
      "    provided, or the prior(s) depend on data variables. In the later case,\n",
      "    this may be a false positive.\n",
      "\u001b[36mSampling:\u001b[0m   0%\n"
     ]
    },
    {
     "name": "stdout",
     "output_type": "stream",
     "text": [
      "KNN metric-finetune\n"
     ]
    },
    {
     "name": "stderr",
     "output_type": "stream",
     "text": [
      "\u001b[1A\u001b[0J\u001b[36mSampling:\u001b[0m   0% (900/204000)\n",
      "\u001b[1A\u001b[0J\u001b[36mSampling:\u001b[0m  25% (51900/204000)\n",
      "\u001b[1A\u001b[0J\u001b[36mSampling:\u001b[0m  50% (102900/204000)\n",
      "\u001b[1A\u001b[0J\u001b[36mSampling:\u001b[0m  75% (153900/204000)\n",
      "\u001b[1A\u001b[0J\u001b[36mSampling:\u001b[0m 100% (204000/204000)\n",
      "\u001b[1A\u001b[0J\u001b[32mSampling:\u001b[0m 100% (204000/204000), done.\n",
      "\u001b[36mMessages received during sampling:\u001b[0m\n",
      "  Gradient evaluation took 8.9e-05 seconds\n",
      "  1000 transitions using 10 leapfrog steps per transition would take 0.89 seconds.\n",
      "  Adjust your expectations accordingly!\n",
      "  Gradient evaluation took 8.5e-05 seconds\n",
      "  1000 transitions using 10 leapfrog steps per transition would take 0.85 seconds.\n",
      "  Adjust your expectations accordingly!\n",
      "  Gradient evaluation took 7.6e-05 seconds\n",
      "  1000 transitions using 10 leapfrog steps per transition would take 0.76 seconds.\n",
      "  Adjust your expectations accordingly!\n",
      "  Gradient evaluation took 7.3e-05 seconds\n",
      "  1000 transitions using 10 leapfrog steps per transition would take 0.73 seconds.\n",
      "  Adjust your expectations accordingly!\n",
      "\u001b[32mBuilding:\u001b[0m found in cache, done.\n",
      "\u001b[36mMessages from \u001b[0m\u001b[36;1mstanc\u001b[0m\u001b[36m:\u001b[0m\n",
      "Warning: The parameter std0 has no priors. This means either no prior is\n",
      "    provided, or the prior(s) depend on data variables. In the later case,\n",
      "    this may be a false positive.\n",
      "Warning: The parameter sigma has no priors. This means either no prior is\n",
      "    provided, or the prior(s) depend on data variables. In the later case,\n",
      "    this may be a false positive.\n",
      "Warning: The parameter gammaBeta has no priors. This means either no prior is\n",
      "    provided, or the prior(s) depend on data variables. In the later case,\n",
      "    this may be a false positive.\n",
      "Warning: The parameter gammaAlpha has no priors. This means either no prior\n",
      "    is provided, or the prior(s) depend on data variables. In the later case,\n",
      "    this may be a false positive.\n",
      "Warning: The parameter delta0 has no priors. This means either no prior is\n",
      "    provided, or the prior(s) depend on data variables. In the later case,\n",
      "    this may be a false positive.\n",
      "\u001b[36mSampling:\u001b[0m   0%\n"
     ]
    },
    {
     "name": "stdout",
     "output_type": "stream",
     "text": [
      "finetune metric-finetune\n"
     ]
    },
    {
     "name": "stderr",
     "output_type": "stream",
     "text": [
      "\u001b[1A\u001b[0J\u001b[36mSampling:\u001b[0m   0% (500/204000)\n",
      "\u001b[1A\u001b[0J\u001b[36mSampling:\u001b[0m  24% (49100/204000)\n",
      "\u001b[1A\u001b[0J\u001b[36mSampling:\u001b[0m  49% (100100/204000)\n",
      "\u001b[1A\u001b[0J\u001b[36mSampling:\u001b[0m  74% (151100/204000)\n",
      "\u001b[1A\u001b[0J\u001b[36mSampling:\u001b[0m  99% (201600/204000)\n",
      "\u001b[1A\u001b[0J\u001b[36mSampling:\u001b[0m 100% (204000/204000)\n",
      "\u001b[1A\u001b[0J\u001b[32mSampling:\u001b[0m 100% (204000/204000), done.\n",
      "\u001b[36mMessages received during sampling:\u001b[0m\n",
      "  Gradient evaluation took 8.5e-05 seconds\n",
      "  1000 transitions using 10 leapfrog steps per transition would take 0.85 seconds.\n",
      "  Adjust your expectations accordingly!\n",
      "  Gradient evaluation took 0.000108 seconds\n",
      "  1000 transitions using 10 leapfrog steps per transition would take 1.08 seconds.\n",
      "  Adjust your expectations accordingly!\n",
      "  Gradient evaluation took 0.000106 seconds\n",
      "  1000 transitions using 10 leapfrog steps per transition would take 1.06 seconds.\n",
      "  Adjust your expectations accordingly!\n",
      "  Gradient evaluation took 0.000174 seconds\n",
      "  1000 transitions using 10 leapfrog steps per transition would take 1.74 seconds.\n",
      "  Adjust your expectations accordingly!\n"
     ]
    }
   ],
   "source": [
    "import itertools\n",
    "outs = {}\n",
    "for m1, m2 in itertools.combinations(['SVC', 'KNN', 'finetune', 'metric-finetune'], 2):\n",
    "    print(m1, m2)\n",
    "    outs[m1, m2] = baycomp.two_on_multiple(splits[m1], splits[m2], rope=0.025)"
   ]
  },
  {
   "cell_type": "code",
   "execution_count": 57,
   "id": "49ebbeba-13a3-4e52-aec3-259f149c3984",
   "metadata": {},
   "outputs": [
    {
     "data": {
      "text/plain": [
       "{('SVC', 'KNN'): (0.795205, 0.18579, 0.019005),\n",
       " ('SVC', 'finetune'): (0.000455, 0.063655, 0.93589),\n",
       " ('SVC', 'metric-finetune'): (1e-05, 0.0, 0.99999),\n",
       " ('KNN', 'finetune'): (0.00137, 0.000485, 0.998145),\n",
       " ('KNN', 'metric-finetune'): (3e-05, 0.0, 0.99997),\n",
       " ('finetune', 'metric-finetune'): (0.00186, 0.18824, 0.8099)}"
      ]
     },
     "execution_count": 57,
     "metadata": {},
     "output_type": "execute_result"
    }
   ],
   "source": [
    "outs"
   ]
  },
  {
   "cell_type": "markdown",
   "id": "822171ba-52fa-4bd2-bb87-9fc86e307cf9",
   "metadata": {},
   "source": [
    "### ROPE=0.05"
   ]
  },
  {
   "cell_type": "code",
   "execution_count": 58,
   "id": "368de282-1dcd-4045-9f2b-c6931f963ddd",
   "metadata": {},
   "outputs": [
    {
     "name": "stderr",
     "output_type": "stream",
     "text": [
      "\u001b[32mBuilding:\u001b[0m found in cache, done.\n",
      "\u001b[36mMessages from \u001b[0m\u001b[36;1mstanc\u001b[0m\u001b[36m:\u001b[0m\n",
      "Warning: The parameter std0 has no priors. This means either no prior is\n",
      "    provided, or the prior(s) depend on data variables. In the later case,\n",
      "    this may be a false positive.\n",
      "Warning: The parameter sigma has no priors. This means either no prior is\n",
      "    provided, or the prior(s) depend on data variables. In the later case,\n",
      "    this may be a false positive.\n",
      "Warning: The parameter gammaBeta has no priors. This means either no prior is\n",
      "    provided, or the prior(s) depend on data variables. In the later case,\n",
      "    this may be a false positive.\n",
      "Warning: The parameter gammaAlpha has no priors. This means either no prior\n",
      "    is provided, or the prior(s) depend on data variables. In the later case,\n",
      "    this may be a false positive.\n",
      "Warning: The parameter delta0 has no priors. This means either no prior is\n",
      "    provided, or the prior(s) depend on data variables. In the later case,\n",
      "    this may be a false positive.\n",
      "\u001b[36mSampling:\u001b[0m   0%\n"
     ]
    },
    {
     "name": "stdout",
     "output_type": "stream",
     "text": [
      "SVC KNN\n"
     ]
    },
    {
     "name": "stderr",
     "output_type": "stream",
     "text": [
      "\u001b[1A\u001b[0J\u001b[36mSampling:\u001b[0m   0% (500/204000)\n",
      "\u001b[1A\u001b[0J\u001b[36mSampling:\u001b[0m   5% (10900/204000)\n",
      "\u001b[1A\u001b[0J\u001b[36mSampling:\u001b[0m  30% (61900/204000)\n",
      "\u001b[1A\u001b[0J\u001b[36mSampling:\u001b[0m  55% (112900/204000)\n",
      "\u001b[1A\u001b[0J\u001b[36mSampling:\u001b[0m  80% (163400/204000)\n",
      "\u001b[1A\u001b[0J\u001b[36mSampling:\u001b[0m 100% (204000/204000)\n",
      "\u001b[1A\u001b[0J\u001b[32mSampling:\u001b[0m 100% (204000/204000), done.\n",
      "\u001b[36mMessages received during sampling:\u001b[0m\n",
      "  Gradient evaluation took 3.8e-05 seconds\n",
      "  1000 transitions using 10 leapfrog steps per transition would take 0.38 seconds.\n",
      "  Adjust your expectations accordingly!\n",
      "  Gradient evaluation took 3.2e-05 seconds\n",
      "  1000 transitions using 10 leapfrog steps per transition would take 0.32 seconds.\n",
      "  Adjust your expectations accordingly!\n",
      "  Gradient evaluation took 3.8e-05 seconds\n",
      "  1000 transitions using 10 leapfrog steps per transition would take 0.38 seconds.\n",
      "  Adjust your expectations accordingly!\n",
      "  Gradient evaluation took 2.9e-05 seconds\n",
      "  1000 transitions using 10 leapfrog steps per transition would take 0.29 seconds.\n",
      "  Adjust your expectations accordingly!\n",
      "\u001b[32mBuilding:\u001b[0m found in cache, done.\n",
      "\u001b[36mMessages from \u001b[0m\u001b[36;1mstanc\u001b[0m\u001b[36m:\u001b[0m\n",
      "Warning: The parameter std0 has no priors. This means either no prior is\n",
      "    provided, or the prior(s) depend on data variables. In the later case,\n",
      "    this may be a false positive.\n",
      "Warning: The parameter sigma has no priors. This means either no prior is\n",
      "    provided, or the prior(s) depend on data variables. In the later case,\n",
      "    this may be a false positive.\n",
      "Warning: The parameter gammaBeta has no priors. This means either no prior is\n",
      "    provided, or the prior(s) depend on data variables. In the later case,\n",
      "    this may be a false positive.\n",
      "Warning: The parameter gammaAlpha has no priors. This means either no prior\n",
      "    is provided, or the prior(s) depend on data variables. In the later case,\n",
      "    this may be a false positive.\n",
      "Warning: The parameter delta0 has no priors. This means either no prior is\n",
      "    provided, or the prior(s) depend on data variables. In the later case,\n",
      "    this may be a false positive.\n",
      "\u001b[36mSampling:\u001b[0m   0%\n"
     ]
    },
    {
     "name": "stdout",
     "output_type": "stream",
     "text": [
      "SVC finetune\n"
     ]
    },
    {
     "name": "stderr",
     "output_type": "stream",
     "text": [
      "\u001b[1A\u001b[0J\u001b[36mSampling:\u001b[0m   0% (300/204000)\n",
      "\u001b[1A\u001b[0J\u001b[36mSampling:\u001b[0m   0% (700/204000)\n",
      "\u001b[1A\u001b[0J\u001b[36mSampling:\u001b[0m   1% (1300/204000)\n",
      "\u001b[1A\u001b[0J\u001b[36mSampling:\u001b[0m  26% (52300/204000)\n",
      "\u001b[1A\u001b[0J\u001b[36mSampling:\u001b[0m  50% (103000/204000)\n",
      "\u001b[1A\u001b[0J\u001b[36mSampling:\u001b[0m  75% (153600/204000)\n",
      "\u001b[1A\u001b[0J\u001b[36mSampling:\u001b[0m 100% (204000/204000)\n",
      "\u001b[1A\u001b[0J\u001b[32mSampling:\u001b[0m 100% (204000/204000), done.\n",
      "\u001b[36mMessages received during sampling:\u001b[0m\n",
      "  Gradient evaluation took 3.6e-05 seconds\n",
      "  1000 transitions using 10 leapfrog steps per transition would take 0.36 seconds.\n",
      "  Adjust your expectations accordingly!\n",
      "  Gradient evaluation took 3.1e-05 seconds\n",
      "  1000 transitions using 10 leapfrog steps per transition would take 0.31 seconds.\n",
      "  Adjust your expectations accordingly!\n",
      "  Gradient evaluation took 3.1e-05 seconds\n",
      "  1000 transitions using 10 leapfrog steps per transition would take 0.31 seconds.\n",
      "  Adjust your expectations accordingly!\n",
      "  Gradient evaluation took 2.6e-05 seconds\n",
      "  1000 transitions using 10 leapfrog steps per transition would take 0.26 seconds.\n",
      "  Adjust your expectations accordingly!\n",
      "\u001b[32mBuilding:\u001b[0m found in cache, done.\n",
      "\u001b[36mMessages from \u001b[0m\u001b[36;1mstanc\u001b[0m\u001b[36m:\u001b[0m\n",
      "Warning: The parameter std0 has no priors. This means either no prior is\n",
      "    provided, or the prior(s) depend on data variables. In the later case,\n",
      "    this may be a false positive.\n",
      "Warning: The parameter sigma has no priors. This means either no prior is\n",
      "    provided, or the prior(s) depend on data variables. In the later case,\n",
      "    this may be a false positive.\n",
      "Warning: The parameter gammaBeta has no priors. This means either no prior is\n",
      "    provided, or the prior(s) depend on data variables. In the later case,\n",
      "    this may be a false positive.\n",
      "Warning: The parameter gammaAlpha has no priors. This means either no prior\n",
      "    is provided, or the prior(s) depend on data variables. In the later case,\n",
      "    this may be a false positive.\n",
      "Warning: The parameter delta0 has no priors. This means either no prior is\n",
      "    provided, or the prior(s) depend on data variables. In the later case,\n",
      "    this may be a false positive.\n",
      "\u001b[36mSampling:\u001b[0m   0%\n"
     ]
    },
    {
     "name": "stdout",
     "output_type": "stream",
     "text": [
      "SVC metric-finetune\n"
     ]
    },
    {
     "name": "stderr",
     "output_type": "stream",
     "text": [
      "\u001b[1A\u001b[0J\u001b[36mSampling:\u001b[0m   0% (200/204000)\n",
      "\u001b[1A\u001b[0J\u001b[36mSampling:\u001b[0m   0% (500/204000)\n",
      "\u001b[1A\u001b[0J\u001b[36mSampling:\u001b[0m   1% (1100/204000)\n",
      "\u001b[1A\u001b[0J\u001b[36mSampling:\u001b[0m   1% (1800/204000)\n",
      "\u001b[1A\u001b[0J\u001b[36mSampling:\u001b[0m  26% (52600/204000)\n",
      "\u001b[1A\u001b[0J\u001b[36mSampling:\u001b[0m  51% (103300/204000)\n",
      "\u001b[1A\u001b[0J\u001b[36mSampling:\u001b[0m  75% (153700/204000)\n",
      "\u001b[1A\u001b[0J\u001b[36mSampling:\u001b[0m 100% (204000/204000)\n",
      "\u001b[1A\u001b[0J\u001b[32mSampling:\u001b[0m 100% (204000/204000), done.\n",
      "\u001b[36mMessages received during sampling:\u001b[0m\n",
      "  Gradient evaluation took 5.4e-05 seconds\n",
      "  1000 transitions using 10 leapfrog steps per transition would take 0.54 seconds.\n",
      "  Adjust your expectations accordingly!\n",
      "  Gradient evaluation took 3e-05 seconds\n",
      "  1000 transitions using 10 leapfrog steps per transition would take 0.3 seconds.\n",
      "  Adjust your expectations accordingly!\n",
      "  Gradient evaluation took 4.4e-05 seconds\n",
      "  1000 transitions using 10 leapfrog steps per transition would take 0.44 seconds.\n",
      "  Adjust your expectations accordingly!\n",
      "  Gradient evaluation took 2.9e-05 seconds\n",
      "  1000 transitions using 10 leapfrog steps per transition would take 0.29 seconds.\n",
      "  Adjust your expectations accordingly!\n",
      "\u001b[32mBuilding:\u001b[0m found in cache, done.\n",
      "\u001b[36mMessages from \u001b[0m\u001b[36;1mstanc\u001b[0m\u001b[36m:\u001b[0m\n",
      "Warning: The parameter std0 has no priors. This means either no prior is\n",
      "    provided, or the prior(s) depend on data variables. In the later case,\n",
      "    this may be a false positive.\n",
      "Warning: The parameter sigma has no priors. This means either no prior is\n",
      "    provided, or the prior(s) depend on data variables. In the later case,\n",
      "    this may be a false positive.\n",
      "Warning: The parameter gammaBeta has no priors. This means either no prior is\n",
      "    provided, or the prior(s) depend on data variables. In the later case,\n",
      "    this may be a false positive.\n",
      "Warning: The parameter gammaAlpha has no priors. This means either no prior\n",
      "    is provided, or the prior(s) depend on data variables. In the later case,\n",
      "    this may be a false positive.\n",
      "Warning: The parameter delta0 has no priors. This means either no prior is\n",
      "    provided, or the prior(s) depend on data variables. In the later case,\n",
      "    this may be a false positive.\n",
      "\u001b[36mSampling:\u001b[0m   0%\n"
     ]
    },
    {
     "name": "stdout",
     "output_type": "stream",
     "text": [
      "KNN finetune\n"
     ]
    },
    {
     "name": "stderr",
     "output_type": "stream",
     "text": [
      "\u001b[1A\u001b[0J\u001b[36mSampling:\u001b[0m   0% (700/204000)\n",
      "\u001b[1A\u001b[0J\u001b[36mSampling:\u001b[0m  25% (51700/204000)\n",
      "\u001b[1A\u001b[0J\u001b[36mSampling:\u001b[0m  50% (102700/204000)\n",
      "\u001b[1A\u001b[0J\u001b[36mSampling:\u001b[0m  75% (153700/204000)\n",
      "\u001b[1A\u001b[0J\u001b[36mSampling:\u001b[0m 100% (204000/204000)\n",
      "\u001b[1A\u001b[0J\u001b[32mSampling:\u001b[0m 100% (204000/204000), done.\n",
      "\u001b[36mMessages received during sampling:\u001b[0m\n",
      "  Gradient evaluation took 8.7e-05 seconds\n",
      "  1000 transitions using 10 leapfrog steps per transition would take 0.87 seconds.\n",
      "  Adjust your expectations accordingly!\n",
      "  Gradient evaluation took 0.000103 seconds\n",
      "  1000 transitions using 10 leapfrog steps per transition would take 1.03 seconds.\n",
      "  Adjust your expectations accordingly!\n",
      "  Gradient evaluation took 8.9e-05 seconds\n",
      "  1000 transitions using 10 leapfrog steps per transition would take 0.89 seconds.\n",
      "  Adjust your expectations accordingly!\n",
      "  Gradient evaluation took 9.4e-05 seconds\n",
      "  1000 transitions using 10 leapfrog steps per transition would take 0.94 seconds.\n",
      "  Adjust your expectations accordingly!\n",
      "\u001b[32mBuilding:\u001b[0m found in cache, done.\n",
      "\u001b[36mMessages from \u001b[0m\u001b[36;1mstanc\u001b[0m\u001b[36m:\u001b[0m\n",
      "Warning: The parameter std0 has no priors. This means either no prior is\n",
      "    provided, or the prior(s) depend on data variables. In the later case,\n",
      "    this may be a false positive.\n",
      "Warning: The parameter sigma has no priors. This means either no prior is\n",
      "    provided, or the prior(s) depend on data variables. In the later case,\n",
      "    this may be a false positive.\n",
      "Warning: The parameter gammaBeta has no priors. This means either no prior is\n",
      "    provided, or the prior(s) depend on data variables. In the later case,\n",
      "    this may be a false positive.\n",
      "Warning: The parameter gammaAlpha has no priors. This means either no prior\n",
      "    is provided, or the prior(s) depend on data variables. In the later case,\n",
      "    this may be a false positive.\n",
      "Warning: The parameter delta0 has no priors. This means either no prior is\n",
      "    provided, or the prior(s) depend on data variables. In the later case,\n",
      "    this may be a false positive.\n",
      "\u001b[36mSampling:\u001b[0m   0%\n"
     ]
    },
    {
     "name": "stdout",
     "output_type": "stream",
     "text": [
      "KNN metric-finetune\n"
     ]
    },
    {
     "name": "stderr",
     "output_type": "stream",
     "text": [
      "\u001b[1A\u001b[0J\u001b[36mSampling:\u001b[0m   0% (800/204000)\n",
      "\u001b[1A\u001b[0J\u001b[36mSampling:\u001b[0m  25% (51800/204000)\n",
      "\u001b[1A\u001b[0J\u001b[36mSampling:\u001b[0m  50% (102800/204000)\n",
      "\u001b[1A\u001b[0J\u001b[36mSampling:\u001b[0m  75% (153800/204000)\n",
      "\u001b[1A\u001b[0J\u001b[36mSampling:\u001b[0m 100% (204000/204000)\n",
      "\u001b[1A\u001b[0J\u001b[32mSampling:\u001b[0m 100% (204000/204000), done.\n",
      "\u001b[36mMessages received during sampling:\u001b[0m\n",
      "  Gradient evaluation took 8.3e-05 seconds\n",
      "  1000 transitions using 10 leapfrog steps per transition would take 0.83 seconds.\n",
      "  Adjust your expectations accordingly!\n",
      "  Gradient evaluation took 8.2e-05 seconds\n",
      "  1000 transitions using 10 leapfrog steps per transition would take 0.82 seconds.\n",
      "  Adjust your expectations accordingly!\n",
      "  Gradient evaluation took 0.000118 seconds\n",
      "  1000 transitions using 10 leapfrog steps per transition would take 1.18 seconds.\n",
      "  Adjust your expectations accordingly!\n",
      "  Gradient evaluation took 0.000137 seconds\n",
      "  1000 transitions using 10 leapfrog steps per transition would take 1.37 seconds.\n",
      "  Adjust your expectations accordingly!\n",
      "\u001b[32mBuilding:\u001b[0m found in cache, done.\n",
      "\u001b[36mMessages from \u001b[0m\u001b[36;1mstanc\u001b[0m\u001b[36m:\u001b[0m\n",
      "Warning: The parameter std0 has no priors. This means either no prior is\n",
      "    provided, or the prior(s) depend on data variables. In the later case,\n",
      "    this may be a false positive.\n",
      "Warning: The parameter sigma has no priors. This means either no prior is\n",
      "    provided, or the prior(s) depend on data variables. In the later case,\n",
      "    this may be a false positive.\n",
      "Warning: The parameter gammaBeta has no priors. This means either no prior is\n",
      "    provided, or the prior(s) depend on data variables. In the later case,\n",
      "    this may be a false positive.\n",
      "Warning: The parameter gammaAlpha has no priors. This means either no prior\n",
      "    is provided, or the prior(s) depend on data variables. In the later case,\n",
      "    this may be a false positive.\n",
      "Warning: The parameter delta0 has no priors. This means either no prior is\n",
      "    provided, or the prior(s) depend on data variables. In the later case,\n",
      "    this may be a false positive.\n",
      "\u001b[36mSampling:\u001b[0m   0%\n"
     ]
    },
    {
     "name": "stdout",
     "output_type": "stream",
     "text": [
      "finetune metric-finetune\n"
     ]
    },
    {
     "name": "stderr",
     "output_type": "stream",
     "text": [
      "\u001b[1A\u001b[0J\u001b[36mSampling:\u001b[0m   0% (600/204000)\n",
      "\u001b[1A\u001b[0J\u001b[36mSampling:\u001b[0m  25% (51600/204000)\n",
      "\u001b[1A\u001b[0J\u001b[36mSampling:\u001b[0m  50% (102600/204000)\n",
      "\u001b[1A\u001b[0J\u001b[36mSampling:\u001b[0m  75% (153600/204000)\n",
      "\u001b[1A\u001b[0J\u001b[36mSampling:\u001b[0m 100% (204000/204000)\n",
      "\u001b[1A\u001b[0J\u001b[32mSampling:\u001b[0m 100% (204000/204000), done.\n",
      "\u001b[36mMessages received during sampling:\u001b[0m\n",
      "  Gradient evaluation took 3.5e-05 seconds\n",
      "  1000 transitions using 10 leapfrog steps per transition would take 0.35 seconds.\n",
      "  Adjust your expectations accordingly!\n",
      "  Gradient evaluation took 3e-05 seconds\n",
      "  1000 transitions using 10 leapfrog steps per transition would take 0.3 seconds.\n",
      "  Adjust your expectations accordingly!\n",
      "  Gradient evaluation took 3e-05 seconds\n",
      "  1000 transitions using 10 leapfrog steps per transition would take 0.3 seconds.\n",
      "  Adjust your expectations accordingly!\n",
      "  Gradient evaluation took 3.3e-05 seconds\n",
      "  1000 transitions using 10 leapfrog steps per transition would take 0.33 seconds.\n",
      "  Adjust your expectations accordingly!\n"
     ]
    }
   ],
   "source": [
    "import itertools\n",
    "outs = {}\n",
    "for m1, m2 in itertools.combinations(['SVC', 'KNN', 'finetune', 'metric-finetune'], 2):\n",
    "    print(m1, m2)\n",
    "    outs[m1, m2] = baycomp.two_on_multiple(splits[m1], splits[m2], rope=0.05)"
   ]
  },
  {
   "cell_type": "code",
   "execution_count": 59,
   "id": "21a3b8c6-f21d-4430-b3b8-e07fee81ca88",
   "metadata": {},
   "outputs": [
    {
     "data": {
      "text/plain": [
       "{('SVC', 'KNN'): (0.13647, 0.861775, 0.001755),\n",
       " ('SVC', 'finetune'): (3e-05, 0.801845, 0.198125),\n",
       " ('SVC', 'metric-finetune'): (5e-06, 0.006895, 0.9931),\n",
       " ('KNN', 'finetune'): (0.000545, 0.105595, 0.89386),\n",
       " ('KNN', 'metric-finetune'): (3e-05, 0.00029, 0.99968),\n",
       " ('finetune', 'metric-finetune'): (0.000105, 0.907185, 0.09271)}"
      ]
     },
     "execution_count": 59,
     "metadata": {},
     "output_type": "execute_result"
    }
   ],
   "source": [
    "outs"
   ]
  },
  {
   "cell_type": "code",
   "execution_count": null,
   "id": "a73c42c1-dc00-4698-9414-b404d7e73aa7",
   "metadata": {},
   "outputs": [],
   "source": []
  }
 ],
 "metadata": {
  "kernelspec": {
   "display_name": "Python 3 (ipykernel)",
   "language": "python",
   "name": "python3"
  },
  "language_info": {
   "codemirror_mode": {
    "name": "ipython",
    "version": 3
   },
   "file_extension": ".py",
   "mimetype": "text/x-python",
   "name": "python",
   "nbconvert_exporter": "python",
   "pygments_lexer": "ipython3",
   "version": "3.8.9"
  }
 },
 "nbformat": 4,
 "nbformat_minor": 5
}
